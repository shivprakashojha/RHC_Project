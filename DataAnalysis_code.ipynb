{
 "cells": [
  {
   "cell_type": "markdown",
   "metadata": {},
   "source": [
    "1.\tIdentify and describe 2 data quality issues present in the dataset. Briefly propose strategies to address these issues. Document the steps taken and provide a summary of the data quality improvements."
   ]
  },
  {
   "cell_type": "code",
   "execution_count": 1,
   "metadata": {},
   "outputs": [],
   "source": [
    "import pandas as pd\n",
    "import matplotlib.pyplot as plt\n",
    "import plotly.express as px\n",
    "import seaborn as sns\n",
    "import numpy as np\n",
    "import unittest\n",
    "import math\n",
    "from scipy.stats import ttest_ind\n",
    "from scipy.stats import shapiro"
   ]
  },
  {
   "cell_type": "code",
   "execution_count": 2,
   "metadata": {},
   "outputs": [],
   "source": [
    "def create_dateset():\n",
    "    '''Read dataset and pre-process charge columns to replace missing values by zero and round to 2 places of decimal,\n",
    "    Arguments - None,\n",
    "    Return - created dataset as pandas dataframe'''\n",
    "    input_table = pd.read_excel(\"Data Insights - Synthetic Dataset.xlsx\", sheet_name = \"Data Insights - Synthetic Datas\")\n",
    "\n",
    "    # for columns pertaining to charges, round off and replace missing values with zero\n",
    "    numeric_columns = [ 'AccommodationCharge', 'CCU_Charges', 'ICU_Charge', 'TheatreCharge',  'ProsthesisCharge', 'OtherCharges',\n",
    "       'BundledCharges']\n",
    "\n",
    "    for column in numeric_columns:\n",
    "        input_table.loc[:,column + \"_Filled\"]=input_table.loc[:,column].astype(float).round(2).fillna(0)\n",
    "\n",
    "    # analyse and investigate scaling on pharmacy charge\n",
    "    input_table.loc[:,\"PharmacyCharge\"]=input_table.loc[:,\"PharmacyCharge\"].apply(lambda x:str(x).replace(\"ERROR\",'0')).astype(float)\n",
    "    input_table.loc[:,\"PharmacyCharge_Filled\"]=input_table.loc[:,\"PharmacyCharge\"].astype(float).round(2).fillna(0)\n",
    "    input_table.loc[:,\"PharmacyCharge_Scaled\"] = input_table.loc[:,\"PharmacyCharge_Filled\"].apply(lambda x:math.log(x) if x>0.01 else 0)\n",
    "\n",
    "    return input_table"
   ]
  },
  {
   "cell_type": "code",
   "execution_count": 3,
   "metadata": {},
   "outputs": [],
   "source": [
    "# create dataset\n",
    "input_table = create_dateset()"
   ]
  },
  {
   "cell_type": "code",
   "execution_count": 4,
   "metadata": {},
   "outputs": [],
   "source": [
    "def show_comparison (df, col1, col2, num_bins = 50):\n",
    "    '''Performing comparison of distribution of columns col1 and col2,\n",
    "    Also prints summary of missing data filled and summary statistics,\n",
    "    Arguments - df is pandas dataframe with columns col1 and col2 for comparison, num_bins as number of bins in histogram,\n",
    "    Return - None'''\n",
    "    # Create subplots for two histograms\n",
    "    fig, axes = plt.subplots(1, 2, figsize=(10, 5))\n",
    "\n",
    "    # Calculate bin edges using numpy's linspace for filled columns\n",
    "    bin_edges = np.linspace(df[col2].min(), df[col2].max(), num_bins + 1)\n",
    "\n",
    "    sns.histplot(df[col1], bins=bin_edges, ax=axes[0])  \n",
    "\n",
    "    hist_data = sns.histplot(df[col2], bins=bin_edges, ax=axes[1])  \n",
    "\n",
    "    # Extract the counts from the histogram\n",
    "    counts = hist_data.patches  # Patches are the rectangles that make up the histogram\n",
    "\n",
    "    # Calculate maximum frequency\n",
    "    max_frequency = max([patch.get_height() for patch in counts]) *1.1   \n",
    "    maxvalue = df[col2].max()\n",
    "\n",
    "    # Set y-axis limits for both subplots\n",
    "    axes[0].set_ylim([0, max_frequency])  \n",
    "    axes[0].set_xlim([0, maxvalue]) \n",
    "    axes[1].set_ylim([0, max_frequency])  \n",
    "    axes[1].set_xlim([0, maxvalue]) \n",
    "    axes[0].grid(visible=True, which='major', linestyle='--', linewidth=0.7, color='gray')  # Major gridlines\n",
    "    axes[1].grid(visible=True, which='major', linestyle='--', linewidth=0.7, color='gray')  # Major gridlines\n",
    "\n",
    "    # Show the plot\n",
    "    plt.tight_layout()\n",
    "    plt.show()\n",
    "\n",
    "    # Before cleaning\n",
    "    missing_before = df[col1].isnull().sum()\n",
    "\n",
    "    # After cleaning\n",
    "    missing_after = df[col2].isnull().sum()\n",
    "\n",
    "    print(\"Missing data before:\\n\", missing_before)\n",
    "    print(\"Missing data after:\\n\", missing_after)\n",
    "\n",
    "    print(\"Summary before cleaning\")\n",
    "    print(df[col1].describe())\n",
    "\n",
    "    print(\"Summary after cleaning\")\n",
    "    print(df[col2].describe())"
   ]
  },
  {
   "cell_type": "code",
   "execution_count": null,
   "metadata": {},
   "outputs": [],
   "source": [
    "show_comparison(input_table,\"AccommodationCharge\",\"AccommodationCharge_Filled\")"
   ]
  },
  {
   "cell_type": "code",
   "execution_count": null,
   "metadata": {},
   "outputs": [],
   "source": [
    "show_comparison(input_table,\"CCU_Charges\",\"CCU_Charges_Filled\")"
   ]
  },
  {
   "cell_type": "code",
   "execution_count": null,
   "metadata": {},
   "outputs": [],
   "source": [
    "show_comparison(input_table,\"ICU_Charge\",\"ICU_Charge_Filled\")"
   ]
  },
  {
   "cell_type": "code",
   "execution_count": null,
   "metadata": {},
   "outputs": [],
   "source": [
    "show_comparison(input_table,\"TheatreCharge\",\"TheatreCharge_Filled\")"
   ]
  },
  {
   "cell_type": "code",
   "execution_count": null,
   "metadata": {},
   "outputs": [],
   "source": [
    "show_comparison(input_table,\"ProsthesisCharge\",\"ProsthesisCharge_Filled\")"
   ]
  },
  {
   "cell_type": "code",
   "execution_count": null,
   "metadata": {},
   "outputs": [],
   "source": [
    "show_comparison(input_table,\"OtherCharges\",\"OtherCharges_Filled\")"
   ]
  },
  {
   "cell_type": "code",
   "execution_count": null,
   "metadata": {},
   "outputs": [],
   "source": [
    "show_comparison(input_table,\"BundledCharges\",\"BundledCharges_Filled\")"
   ]
  },
  {
   "cell_type": "code",
   "execution_count": null,
   "metadata": {},
   "outputs": [],
   "source": [
    "show_comparison(input_table,\"PharmacyCharge_Filled\", \"PharmacyCharge_Scaled\")"
   ]
  },
  {
   "cell_type": "markdown",
   "metadata": {},
   "source": [
    "Data Transformation and Analysis \n",
    "\n",
    "Q2.\tUsing the data provided create a feature that could be valuable for analysis or modelling. Explain the rationale behind the feature you created and how they might be useful for analysis.\n",
    "\n",
    "Q6.\tBased on your analysis, identify two strategic insights that could help Ramsay improve hospital operations or patient care. Justify your insights with evidence from your data analysis."
   ]
  },
  {
   "cell_type": "code",
   "execution_count": 13,
   "metadata": {},
   "outputs": [],
   "source": [
    "def classify_admission(episode):\n",
    "    '''classify admission entries based on weeday working hours or otherwise to create categorical variable,\n",
    "    Arguments: row entry for pandas dataframe,\n",
    "    Return: Classification flag as Weekday_Workinghour, Weekday_NonWorkinghour or Weekend '''\n",
    "    if episode['AdmissionDayOfWeek'] in [0,1,2,3,4]:\n",
    "        if episode['AdmissionHour']>=9 and episode['AdmissionHour']<18:\n",
    "            return 'Weekday_Workinghour'\n",
    "        else:\n",
    "            return 'Weekday_NonWorkinghour'\n",
    "    else:\n",
    "        return 'Weekend'\n",
    "\n",
    "def classify_separation(episode):\n",
    "    '''classify separation entries based on weeday working hours or otherwise to create categorical variable,\n",
    "    Arguments: row entry for pandas dataframe,\n",
    "    Return: Classification flag as Weekday_Workinghour, Weekday_NonWorkinghour or Weekend '''\n",
    "    if episode['SeparationDayOfWeek'] in [0,1,2,3,4]:\n",
    "        if episode['SeparationHour']>=9 and episode['SeparationHour']<18:\n",
    "            return 'Weekday_Workinghour'\n",
    "        else:\n",
    "            return 'Weekday_NonWorkinghour'\n",
    "    else:\n",
    "        return 'Weekend'"
   ]
  },
  {
   "cell_type": "code",
   "execution_count": 14,
   "metadata": {},
   "outputs": [],
   "source": [
    "def transform_dataset(input_table):\n",
    "    '''Function to create new features and transform existing features for analysis\n",
    "    Arguement: input dataframe\n",
    "    Return: Transformed dataset as pandas dataframe\n",
    "    '''\n",
    "    # convert admission provided id to string\n",
    "    input_table['AdmissionProviderID'] = input_table['AdmissionProviderID'].astype(str)\n",
    "\n",
    "    # combine date and time columns to create timestamp\n",
    "    input_table.loc[:,\"AdmissionTimestampStr\"] = input_table.loc[:,'AdmissionDate'].astype(str) + \" \" +  input_table.loc[:,'AdmissionTime'].astype(str)\n",
    "    input_table.loc[:,\"AdmissionTimestamp\"] = pd.to_datetime(input_table.loc[:,\"AdmissionTimestampStr\"])\n",
    "\n",
    "    input_table.loc[:,\"SeparationTimestampStr\"] = input_table.loc[:,'SeparationDate'].astype(str) + \" \" +  input_table.loc[:,'SeparationTime'].astype(str)\n",
    "    input_table.loc[:,\"SeparationTimestamp\"] = pd.to_datetime(input_table.loc[:,\"SeparationTimestampStr\"])\n",
    "\n",
    "    #calculate length of stay based on admission and separation timestamps\n",
    "    input_table.loc[:,\"LengthofStay\"] = input_table.loc[:,\"SeparationTimestamp\"] - input_table.loc[:,\"AdmissionTimestamp\"]\n",
    "    input_table.loc[:,\"LengthofStay_hours\"] = input_table.loc[:,\"LengthofStay\"].dt.total_seconds() / 3600 \n",
    "    input_table.loc[:,\"LengthofStay_days\"] = input_table.loc[:,\"LengthofStay_hours\"] / 24\n",
    "\n",
    "    #calculate total charge excluding pharmacy charges\n",
    "    input_table.loc[:,\"TotalCharges\"] =  input_table.loc[:,'AccommodationCharge_Filled']+ input_table.loc[:,'CCU_Charges_Filled']+ input_table.loc[:,'TheatreCharge_Filled']+  input_table.loc[:,'ProsthesisCharge_Filled']+ input_table.loc[:,'OtherCharges_Filled']+ input_table.loc[:,'BundledCharges_Filled']\n",
    "\n",
    "    #create feature for day, day name, hour, day of week, day of month, month, year\n",
    "    input_table['AdmissionDayOfWeek'] = input_table['AdmissionTimestamp'].dt.dayofweek\n",
    "    input_table['AdmissionDayName'] = input_table['AdmissionTimestamp'].dt.day_name()\n",
    "    input_table['AdmissionHour'] = input_table['AdmissionTimestamp'].dt.hour\n",
    "\n",
    "    input_table['SeparationDayOfWeek'] = input_table['SeparationTimestamp'].dt.dayofweek\n",
    "    input_table['SeparationDayName'] = input_table['SeparationTimestamp'].dt.day_name()\n",
    "    input_table['SeparationHour'] = input_table['SeparationTimestamp'].dt.hour\n",
    "\n",
    "    input_table['AdmissionDay'] = input_table['AdmissionTimestamp'].dt.day\n",
    "    input_table['AdmissionMonth'] = input_table['AdmissionTimestamp'].dt.month\n",
    "    input_table['AdmissionYear'] = input_table['AdmissionTimestamp'].dt.year\n",
    "\n",
    "    input_table['SeparationDay'] = input_table['SeparationTimestamp'].dt.day\n",
    "    input_table['SeparationMonth'] = input_table['SeparationTimestamp'].dt.month\n",
    "    input_table['SeparationYear'] = input_table['SeparationTimestamp'].dt.year\n",
    "\n",
    "    # Define the order of days\n",
    "    daysofweek = ['Monday', 'Tuesday','Wednesday', 'Thursday', 'Friday', 'Saturday','Sunday']\n",
    "    day_dtype = pd.CategoricalDtype(categories=daysofweek, ordered=True)\n",
    "\n",
    "    # convert day name to categorical variable\n",
    "    input_table['AdmissionDayName'] = input_table['AdmissionDayName'].astype(day_dtype)\n",
    "    input_table['SeparationDayName'] = input_table['SeparationDayName'].astype(day_dtype)\n",
    "\n",
    "    # classification of admission based on weekend, weekday working hours or non-working hours\n",
    "    input_table['Admission_Classification'] = input_table.apply(lambda x: classify_admission(x), axis=1)\n",
    "    input_table['Separation_Classification'] = input_table.apply(lambda x: classify_separation(x), axis=1)\n",
    "\n",
    "    #create binary variable to show if infant weight is provided\n",
    "    input_table['InfantCase'] = input_table['InfantWeight'].apply(lambda x: 'Yes' if x>0 else 'No')\n",
    "\n",
    "    #create binary variable to show if mechanical ventilation was used\n",
    "    input_table['VentilationCase'] = input_table['HoursMechVentilation'].apply(lambda x: 'Yes' if x>0 else 'No')\n",
    "\n",
    "    return input_table\n"
   ]
  },
  {
   "cell_type": "code",
   "execution_count": 15,
   "metadata": {},
   "outputs": [],
   "source": [
    "input_table = transform_dataset(input_table=input_table)"
   ]
  },
  {
   "cell_type": "code",
   "execution_count": 16,
   "metadata": {},
   "outputs": [],
   "source": [
    "def create_scatter_plot(df,x, y):\n",
    "    '''Create scatter plot,\n",
    "    Arguments - dataframe with x and y variables,\n",
    "    Return - None'''\n",
    "    # Create a scatter plot\n",
    "    sns.scatterplot(data=df, x=x, y=y, color='blue')\n",
    "    plt.xlabel(x)\n",
    "    plt.ylabel(y)\n",
    "\n",
    "    # Show the plot\n",
    "    plt.show()"
   ]
  },
  {
   "cell_type": "code",
   "execution_count": 17,
   "metadata": {},
   "outputs": [],
   "source": [
    "def create_correlation_matrix(df):\n",
    "    '''Calculate the correlation matrix and create heatmap,\n",
    "    Argument - Dataframe with columns for calculation,\n",
    "    Return - None'''\n",
    "    correlation_matrix = df.corr()\n",
    "\n",
    "    # Visualize the correlation matrix using a heatmap\n",
    "    plt.figure(figsize=(8, 6))\n",
    "    sns.heatmap(correlation_matrix, annot=True, cmap='coolwarm', fmt=\".2f\")\n",
    "    plt.title('Correlation Matrix')\n",
    "    plt.show()"
   ]
  },
  {
   "cell_type": "code",
   "execution_count": 18,
   "metadata": {},
   "outputs": [],
   "source": [
    "def create_box_plot(df, colx, coly):\n",
    "    '''Create a box plot using Plotly Express\n",
    "    Arguments: df is pandas dataframe, colx and coly are x and y columns respectively\n",
    "    Return: None'''\n",
    "    fig = px.box(df, x=colx, y=coly, title='Distribution of ' + coly + ' by ' + colx)\n",
    "    fig.show()\n",
    "\n",
    "def comparison_summary(df,colx):\n",
    "    '''Create a summary table of median of length of stay, median of total charge and count of episodes.\n",
    "    Arguments: df is pandas dataframe, colx and coly are x and y columns respectively\n",
    "    Return: None'''\n",
    "    df_by_col = pd.pivot_table(df,index=[colx], aggfunc={'LengthofStay_hours':'median', 'TotalCharges':\"median\",'episode_id':'count'}).reset_index()\n",
    "    df_by_col.columns = [colx,\"Median_Duration\", \"Median_Charge\",\"Count_Cases\"]\n",
    "    print(df_by_col)"
   ]
  },
  {
   "cell_type": "code",
   "execution_count": 19,
   "metadata": {},
   "outputs": [],
   "source": [
    "def plot_mean_comparison(df, colx, coly):\n",
    "    '''Creates comparison plot for numerical distribution by given columns\n",
    "    Arguments - dataframe and selected columns\n",
    "    Returns - None'''\n",
    "    df_by_col = pd.pivot_table(df,index=[colx], aggfunc={coly:'mean'}).reset_index()\n",
    "    df_by_col.columns = [colx,\"Mean_\" + coly]\n",
    "    fig = px.bar(df_by_col, x=colx, y=\"Mean_\" + coly, text=\"Mean_\" + coly, title = \"Distribution of \" + coly + ' by '+colx)\n",
    "    fig.update_traces(textposition='inside')\n",
    "    fig.update_layout(\n",
    "    xaxis_title_text=colx,\n",
    "    yaxis_title_text='Mean of ' + coly)\n",
    "    fig.show()\n",
    "\n",
    "def plot_count_comparison(df, colx, coly):\n",
    "    '''Creates comparison plot of count by given columns\n",
    "    Arguments - dataframe and selected columns\n",
    "    Returns - None'''\n",
    "    df_by_col = pd.pivot_table(df,index=[colx], aggfunc={coly:'count'}).reset_index()\n",
    "    df_by_col.columns = [colx,\"Count_\" + coly]\n",
    "    fig = px.bar(df_by_col, x=colx, y=\"Count_\" + coly, text=\"Count_\" + coly, title = \"Distribution of \" + coly + ' by '+colx)\n",
    "    fig.update_traces(textposition='inside')\n",
    "    fig.update_layout(\n",
    "    xaxis_title_text=colx,\n",
    "    yaxis_title_text='Count of ' + coly)\n",
    "    fig.show()"
   ]
  },
  {
   "cell_type": "code",
   "execution_count": 20,
   "metadata": {},
   "outputs": [],
   "source": [
    "def compare_plots(df, col):\n",
    "    '''Create comparison plots and summary for Length of stay, Total charge and number of episodes,\n",
    "    Arguments - dataframe with column for comparison,\n",
    "    Return - None'''\n",
    "    create_box_plot(df, colx = col, coly='LengthofStay_hours')\n",
    "    create_box_plot(df, colx = col, coly='TotalCharges')\n",
    "    plot_count_comparison(df, colx = col, coly='episode_id')\n",
    "    comparison_summary(df,colx = col)"
   ]
  },
  {
   "cell_type": "code",
   "execution_count": null,
   "metadata": {},
   "outputs": [],
   "source": [
    "create_scatter_plot(input_table, x=\"LengthofStay_hours\", y=\"TotalCharges\")"
   ]
  },
  {
   "cell_type": "code",
   "execution_count": null,
   "metadata": {},
   "outputs": [],
   "source": [
    "create_scatter_plot(input_table, x=\"InfantWeight\", y=\"TotalCharges\")\n",
    "create_scatter_plot(input_table, x=\"InfantWeight\", y=\"LengthofStay_hours\")"
   ]
  },
  {
   "cell_type": "code",
   "execution_count": null,
   "metadata": {},
   "outputs": [],
   "source": [
    "create_scatter_plot(input_table, x=\"HoursMechVentilation\", y=\"TotalCharges\")\n",
    "create_scatter_plot(input_table, x=\"HoursMechVentilation\", y=\"LengthofStay_hours\")"
   ]
  },
  {
   "cell_type": "code",
   "execution_count": null,
   "metadata": {},
   "outputs": [],
   "source": [
    "create_scatter_plot(input_table, x=\"Age\", y=\"LengthofStay_hours\")\n",
    "create_scatter_plot(input_table, x=\"Age\", y=\"TotalCharges\")  # no correlation seen"
   ]
  },
  {
   "cell_type": "code",
   "execution_count": null,
   "metadata": {},
   "outputs": [],
   "source": [
    "create_scatter_plot(input_table, x=\"LengthofStay_hours\",y = 'AccommodationCharge_Filled') # indicates a time slab for accommodation charges which changes at 400 hr"
   ]
  },
  {
   "cell_type": "code",
   "execution_count": null,
   "metadata": {},
   "outputs": [],
   "source": [
    "df = input_table.loc[:,[\"LengthofStay_hours\",'AccommodationCharge_Filled', 'CCU_Charges_Filled',\n",
    "        'ICU_Charge_Filled','TheatreCharge_Filled', 'ProsthesisCharge_Filled','OtherCharges_Filled', \n",
    "        'BundledCharges_Filled', 'PharmacyCharge_Scaled', 'InfantWeight','HoursMechVentilation']]\n",
    "\n",
    "create_correlation_matrix(df)\n",
    "# correlation seen between accommodation charge and length of stay which is intuitive"
   ]
  },
  {
   "cell_type": "code",
   "execution_count": null,
   "metadata": {},
   "outputs": [],
   "source": [
    "df = input_table.loc[:,[\"LengthofStay_hours\", 'Age']]\n",
    "\n",
    "create_correlation_matrix(df) # no correlation with age"
   ]
  },
  {
   "cell_type": "code",
   "execution_count": null,
   "metadata": {},
   "outputs": [],
   "source": [
    "compare_plots(input_table, col = 'ModeOfSeparation') # no difference"
   ]
  },
  {
   "cell_type": "code",
   "execution_count": null,
   "metadata": {},
   "outputs": [],
   "source": [
    "compare_plots(input_table, col = 'Sex')  # no difference"
   ]
  },
  {
   "cell_type": "code",
   "execution_count": null,
   "metadata": {},
   "outputs": [],
   "source": [
    "compare_plots(input_table, col = 'insurer_id')  # no difference"
   ]
  },
  {
   "cell_type": "code",
   "execution_count": null,
   "metadata": {},
   "outputs": [],
   "source": [
    "compare_plots(input_table, col = 'CareType')  # no difference"
   ]
  },
  {
   "cell_type": "code",
   "execution_count": null,
   "metadata": {},
   "outputs": [],
   "source": [
    "compare_plots(input_table, col = 'SourceOfReferral')  # no difference"
   ]
  },
  {
   "cell_type": "code",
   "execution_count": null,
   "metadata": {},
   "outputs": [],
   "source": [
    "compare_plots(input_table, col = 'DischargeIntention')  # no difference"
   ]
  },
  {
   "cell_type": "code",
   "execution_count": null,
   "metadata": {},
   "outputs": [],
   "source": [
    "compare_plots(input_table, col = 'AdmissionProviderID')  # no significant difference"
   ]
  },
  {
   "cell_type": "code",
   "execution_count": null,
   "metadata": {},
   "outputs": [],
   "source": [
    "compare_plots(input_table, col = 'UrgencyOfAdmission')  # no difference"
   ]
  },
  {
   "cell_type": "code",
   "execution_count": null,
   "metadata": {},
   "outputs": [],
   "source": [
    "compare_plots(input_table, col = 'UnplannedTheatreVisit')  # slightly higher\n",
    "# shows a higher duration for unplanned visits which makes sense if emergency services are required"
   ]
  },
  {
   "cell_type": "code",
   "execution_count": 37,
   "metadata": {},
   "outputs": [],
   "source": [
    "def compare_statistical_summary_yesno(df, colx , coly = ['TotalCharges', 'LengthofStay_hours']):\n",
    "    '''Compare length of stay and total charges statistically using t-test and Shapiro-Wilk test,\n",
    "    For t-test p value<0.1 indicates rejection of null hypothesis and shows statistically different mean values in between both groups,\n",
    "    For Shapiro p value<0.1 indicates rejection of null hypothesis meaning the data is not normally distributed,\n",
    "    Arguments: dataframe with column for comparison,\n",
    "    Return : None'''\n",
    "    df1 = df.loc[df.loc[:,colx]=='Yes',coly]\n",
    "    df2 = df.loc[df.loc[:,colx]=='No',coly]\n",
    "    for i in coly:\n",
    "        print(\"Comparison for \" +  i)\n",
    "        #t-test\n",
    "        t_stat, p_value = ttest_ind(df1.loc[:,i], df2.loc[:,i])\n",
    "        print(\"T-statistic value: \", t_stat)  \n",
    "        print(\"P-Value: \", p_value)\n",
    "        # shapiro-wilk test to check if sample is normally distributed\n",
    "        # Print the results\n",
    "        print(\"Shapiro-Wilk Test for Group Yes:\", shapiro(df1.loc[:,i]))\n",
    "        # Print the results\n",
    "        print(\"Shapiro-Wilk Test for Group No:\", shapiro(df2.loc[:,i]))"
   ]
  },
  {
   "cell_type": "code",
   "execution_count": null,
   "metadata": {},
   "outputs": [],
   "source": [
    "compare_plots(input_table, col = 'InfantCase')  # higher charge but smaller length of stay for infant cases"
   ]
  },
  {
   "cell_type": "code",
   "execution_count": null,
   "metadata": {},
   "outputs": [],
   "source": [
    "compare_statistical_summary_yesno(df=input_table, colx = 'InfantCase')"
   ]
  },
  {
   "cell_type": "markdown",
   "metadata": {},
   "source": [
    "Result shows that for TotalCharges, there is significant difference due to presence of Infant Case. However, ShapiroWilk test indicates data is not normally distributed which is an assumption for validity of t-test\n",
    "For LengthofStay_hours, there is no significant difference due to presence of Infant Case. However, ShapiroWilk test indicates data is not normally distributed which is an assumption for validity of t-test"
   ]
  },
  {
   "cell_type": "code",
   "execution_count": null,
   "metadata": {},
   "outputs": [],
   "source": [
    "compare_plots(input_table, col = 'Readmission28Days')  # higher charge for Yes value"
   ]
  },
  {
   "cell_type": "code",
   "execution_count": null,
   "metadata": {},
   "outputs": [],
   "source": [
    "compare_statistical_summary_yesno(df=input_table, colx = 'Readmission28Days')"
   ]
  },
  {
   "cell_type": "code",
   "execution_count": null,
   "metadata": {},
   "outputs": [],
   "source": [
    "compare_plots(input_table, col =  'VentilationCase') # no significant difference"
   ]
  },
  {
   "cell_type": "code",
   "execution_count": null,
   "metadata": {},
   "outputs": [],
   "source": [
    "compare_statistical_summary_yesno(input_table, colx = 'VentilationCase')"
   ]
  },
  {
   "cell_type": "code",
   "execution_count": null,
   "metadata": {},
   "outputs": [],
   "source": [
    "compare_plots(input_table, col =  'PalliativeCareStatus')  # higher charge for Palliative care"
   ]
  },
  {
   "cell_type": "code",
   "execution_count": null,
   "metadata": {},
   "outputs": [],
   "source": [
    "compare_statistical_summary_yesno(input_table, colx =  'PalliativeCareStatus')"
   ]
  },
  {
   "cell_type": "code",
   "execution_count": null,
   "metadata": {},
   "outputs": [],
   "source": [
    "compare_plots(input_table, col =  'AdmissionDayOfWeek')  # higher on Monday-Wed"
   ]
  },
  {
   "cell_type": "code",
   "execution_count": null,
   "metadata": {},
   "outputs": [],
   "source": [
    "compare_plots(input_table, col =  'AdmissionDayName') "
   ]
  },
  {
   "cell_type": "code",
   "execution_count": null,
   "metadata": {},
   "outputs": [],
   "source": [
    "compare_plots(input_table, col =  'SeparationDayName') "
   ]
  },
  {
   "cell_type": "code",
   "execution_count": null,
   "metadata": {},
   "outputs": [],
   "source": [
    "compare_plots(input_table, col =  'AdmissionDay')  # no significant difference"
   ]
  },
  {
   "cell_type": "code",
   "execution_count": null,
   "metadata": {},
   "outputs": [],
   "source": [
    "compare_plots(input_table, col =  'SeparationDay')  # no significant difference"
   ]
  },
  {
   "cell_type": "code",
   "execution_count": null,
   "metadata": {},
   "outputs": [],
   "source": [
    "compare_plots(input_table, col =  'AdmissionHour')  # no significant difference"
   ]
  },
  {
   "cell_type": "code",
   "execution_count": null,
   "metadata": {},
   "outputs": [],
   "source": [
    "compare_plots(input_table, 'SeparationHour')  # no significant difference"
   ]
  },
  {
   "cell_type": "code",
   "execution_count": null,
   "metadata": {},
   "outputs": [],
   "source": [
    "compare_plots(input_table, 'Admission_Classification')"
   ]
  },
  {
   "cell_type": "code",
   "execution_count": null,
   "metadata": {},
   "outputs": [],
   "source": [
    "compare_plots(input_table, 'Separation_Classification') # no significant difference"
   ]
  },
  {
   "cell_type": "markdown",
   "metadata": {},
   "source": [
    "3.\tUsing the data provided produce a piece of analysis that describes to Ramsay which DRGs accrue the largest charges and your hypotheses for the drivers of these charge. Visualise these trends using appropriate charts or graphs and describe the results."
   ]
  },
  {
   "cell_type": "code",
   "execution_count": 55,
   "metadata": {},
   "outputs": [],
   "source": [
    "def create_barplot(df, colx, coly, summarytype = 'count', barcount = 20, ascorder = False):\n",
    "    '''Creates comparison plot of count by given columns\n",
    "    Arguements - dataframe and selected columns, summarytype is summary required, barcount is number of bars in plot, \n",
    "    ascorder is ascending or descending order,\n",
    "    Returns - None'''\n",
    "    df_by_col = pd.pivot_table(df,index=[colx], aggfunc={coly:summarytype}).reset_index()\n",
    "    df_by_col.columns = [colx,summarytype + '_' + coly]\n",
    "    df_by_col.sort_values([summarytype + '_' + coly], ascending=[ascorder], inplace=True)\n",
    "    df_by_col = df_by_col.iloc[:barcount,:]\n",
    "    df_by_col[summarytype + '_' + coly] = df_by_col[summarytype + '_' + coly].round(4)\n",
    "\n",
    "    fig = px.bar(df_by_col, x=colx, y=summarytype + '_' + coly, text=summarytype + '_' + coly, title = \"Distribution of \" + coly + ' by '+colx)\n",
    "\n",
    "    fig.update_traces(textposition='inside')\n",
    "    fig.update_layout(\n",
    "    xaxis_title_text=colx,\n",
    "    yaxis_title_text=summarytype + '_' + coly)\n",
    "    fig.show()"
   ]
  },
  {
   "cell_type": "code",
   "execution_count": null,
   "metadata": {},
   "outputs": [],
   "source": [
    "create_barplot(input_table, colx = 'AR-DRG', coly = 'TotalCharges', summarytype='mean', ascorder=False, barcount=20)"
   ]
  },
  {
   "cell_type": "code",
   "execution_count": null,
   "metadata": {},
   "outputs": [],
   "source": [
    "create_barplot(input_table, colx = 'AR-DRG', coly = 'TotalCharges', summarytype='median', ascorder=False, barcount=20)"
   ]
  },
  {
   "cell_type": "code",
   "execution_count": null,
   "metadata": {},
   "outputs": [],
   "source": [
    "create_barplot(input_table, colx = 'AR-DRG', coly = 'TotalCharges', summarytype='median', ascorder=True, barcount=20)"
   ]
  },
  {
   "cell_type": "code",
   "execution_count": null,
   "metadata": {},
   "outputs": [],
   "source": [
    "create_barplot(input_table, colx = 'AR-DRG', coly = 'LengthofStay_hours', summarytype='median', ascorder=False, barcount=20)"
   ]
  },
  {
   "cell_type": "code",
   "execution_count": null,
   "metadata": {},
   "outputs": [],
   "source": [
    "create_barplot(input_table, colx = 'AR-DRG', coly = 'LengthofStay_hours', summarytype='median', ascorder=True, barcount=20)"
   ]
  },
  {
   "cell_type": "code",
   "execution_count": null,
   "metadata": {},
   "outputs": [],
   "source": [
    "create_barplot(input_table, colx = 'AR-DRG', coly = 'episode_id', summarytype='count', ascorder=False, barcount=5) # max for DRG001, DRG002, and DRG003"
   ]
  },
  {
   "cell_type": "code",
   "execution_count": 62,
   "metadata": {},
   "outputs": [],
   "source": [
    "diagnosis_columns = [\"PrincipalDiagnosis\", \"Diagnosis2\", \"Diagnosis3\", \"Diagnosis4\", \"Principal_ProcedureCode\",\n",
    "                      \"ProcedureCode2\", \"ProcedureCode3\"]"
   ]
  },
  {
   "cell_type": "code",
   "execution_count": null,
   "metadata": {},
   "outputs": [],
   "source": [
    "for i in diagnosis_columns:\n",
    "    create_barplot(input_table, colx = i, coly = 'TotalCharges', summarytype='median', ascorder=False, barcount=20)"
   ]
  },
  {
   "cell_type": "code",
   "execution_count": null,
   "metadata": {},
   "outputs": [],
   "source": [
    "for i in diagnosis_columns:\n",
    "    create_barplot(input_table, colx = i, coly = 'episode_id', summarytype='count', ascorder=False, barcount=20)"
   ]
  },
  {
   "cell_type": "markdown",
   "metadata": {},
   "source": [
    "Unit Testing for functions"
   ]
  },
  {
   "cell_type": "code",
   "execution_count": null,
   "metadata": {},
   "outputs": [],
   "source": [
    "class TestPlot(unittest.TestCase):\n",
    "    def test_create_dataset(self):\n",
    "        \"\"\"\n",
    "        Test that the create_dataset function returns a value\n",
    "        \"\"\"\n",
    "        result = create_dateset()\n",
    "        self.assertIsNotNone(result)\n",
    "\n",
    "    def test_scatter_plot(self):\n",
    "        \"\"\"\n",
    "        Test that the scatter plot function does not return a value\n",
    "        \"\"\"\n",
    "        result = create_scatter_plot(input_table, x=\"LengthofStay_hours\", y=\"TotalCharges\")\n",
    "        self.assertIsNone(result)\n",
    "    \n",
    "    def test_comparison_summary(self):\n",
    "        \"\"\"\n",
    "        Test that the comparison summary function does not return a value\n",
    "        \"\"\"\n",
    "        result = comparison_summary(input_table, colx='AdmissionDayName')\n",
    "        self.assertIsNone(result)\n",
    "    \n",
    "    \n",
    "    def test_transform_dateset(self):\n",
    "        \"\"\"\n",
    "        Test that the transform dataset function does return a pandas dataframe\n",
    "        \"\"\"\n",
    "        result = transform_dataset(input_table=input_table)\n",
    "        self.assertIsInstance(result, pd.DataFrame)\n",
    "\n",
    "    def test_show_comparison(self):\n",
    "        \"\"\"\n",
    "        Test that the show comparison function does not return a value\n",
    "        \"\"\"\n",
    "        result = show_comparison(input_table,\"AccommodationCharge\",\"AccommodationCharge_Filled\")\n",
    "        self.assertIsNone(result)\n",
    "\n",
    "unittest.main(argv=[''], verbosity=2, exit=False)"
   ]
  },
  {
   "cell_type": "code",
   "execution_count": null,
   "metadata": {},
   "outputs": [],
   "source": []
  }
 ],
 "metadata": {
  "kernelspec": {
   "display_name": "Python 3",
   "language": "python",
   "name": "python3"
  },
  "language_info": {
   "codemirror_mode": {
    "name": "ipython",
    "version": 3
   },
   "file_extension": ".py",
   "mimetype": "text/x-python",
   "name": "python",
   "nbconvert_exporter": "python",
   "pygments_lexer": "ipython3",
   "version": "3.10.4"
  }
 },
 "nbformat": 4,
 "nbformat_minor": 2
}
